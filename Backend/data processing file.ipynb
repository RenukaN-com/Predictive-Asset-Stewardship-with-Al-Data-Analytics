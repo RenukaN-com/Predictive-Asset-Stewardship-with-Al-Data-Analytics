{
 "cells": [
  {
   "cell_type": "code",
   "execution_count": 1,
   "id": "4eaacae0-a061-420b-b08a-3fd96f90b4d8",
   "metadata": {},
   "outputs": [
    {
     "name": "stdout",
     "output_type": "stream",
     "text": [
      "Requirement already satisfied: pandas in c:\\users\\admin\\appdata\\local\\programs\\python\\python38\\lib\\site-packages (2.0.3)\n",
      "Requirement already satisfied: numpy in c:\\users\\admin\\appdata\\local\\programs\\python\\python38\\lib\\site-packages (1.23.5)\n",
      "Requirement already satisfied: scikit-learn in c:\\users\\admin\\appdata\\local\\programs\\python\\python38\\lib\\site-packages (1.3.2)\n",
      "Requirement already satisfied: tensorflow in c:\\users\\admin\\appdata\\local\\programs\\python\\python38\\lib\\site-packages (2.10.1)\n",
      "Requirement already satisfied: flask in c:\\users\\admin\\appdata\\local\\programs\\python\\python38\\lib\\site-packages (3.0.3)\n",
      "Requirement already satisfied: matplotlib in c:\\users\\admin\\appdata\\local\\programs\\python\\python38\\lib\\site-packages (3.7.5)\n",
      "Requirement already satisfied: joblib in c:\\users\\admin\\appdata\\local\\programs\\python\\python38\\lib\\site-packages (1.4.2)\n",
      "Requirement already satisfied: python-dateutil>=2.8.2 in c:\\users\\admin\\appdata\\local\\programs\\python\\python38\\lib\\site-packages (from pandas) (2.9.0.post0)\n",
      "Requirement already satisfied: pytz>=2020.1 in c:\\users\\admin\\appdata\\local\\programs\\python\\python38\\lib\\site-packages (from pandas) (2024.2)\n",
      "Requirement already satisfied: tzdata>=2022.1 in c:\\users\\admin\\appdata\\local\\programs\\python\\python38\\lib\\site-packages (from pandas) (2024.2)\n",
      "Requirement already satisfied: scipy>=1.5.0 in c:\\users\\admin\\appdata\\local\\programs\\python\\python38\\lib\\site-packages (from scikit-learn) (1.10.1)\n",
      "Requirement already satisfied: threadpoolctl>=2.0.0 in c:\\users\\admin\\appdata\\local\\programs\\python\\python38\\lib\\site-packages (from scikit-learn) (3.5.0)\n",
      "Requirement already satisfied: absl-py>=1.0.0 in c:\\users\\admin\\appdata\\local\\programs\\python\\python38\\lib\\site-packages (from tensorflow) (1.4.0)\n",
      "Requirement already satisfied: astunparse>=1.6.0 in c:\\users\\admin\\appdata\\local\\programs\\python\\python38\\lib\\site-packages (from tensorflow) (1.6.3)\n",
      "Requirement already satisfied: flatbuffers>=2.0 in c:\\users\\admin\\appdata\\local\\programs\\python\\python38\\lib\\site-packages (from tensorflow) (24.12.23)\n",
      "Requirement already satisfied: gast<=0.4.0,>=0.2.1 in c:\\users\\admin\\appdata\\local\\programs\\python\\python38\\lib\\site-packages (from tensorflow) (0.4.0)\n",
      "Requirement already satisfied: google-pasta>=0.1.1 in c:\\users\\admin\\appdata\\local\\programs\\python\\python38\\lib\\site-packages (from tensorflow) (0.2.0)\n",
      "Requirement already satisfied: h5py>=2.9.0 in c:\\users\\admin\\appdata\\local\\programs\\python\\python38\\lib\\site-packages (from tensorflow) (3.11.0)\n",
      "Requirement already satisfied: keras-preprocessing>=1.1.1 in c:\\users\\admin\\appdata\\local\\programs\\python\\python38\\lib\\site-packages (from tensorflow) (1.1.2)\n",
      "Requirement already satisfied: libclang>=13.0.0 in c:\\users\\admin\\appdata\\local\\programs\\python\\python38\\lib\\site-packages (from tensorflow) (18.1.1)\n",
      "Requirement already satisfied: opt-einsum>=2.3.2 in c:\\users\\admin\\appdata\\local\\programs\\python\\python38\\lib\\site-packages (from tensorflow) (3.4.0)\n",
      "Requirement already satisfied: packaging in c:\\users\\admin\\appdata\\local\\programs\\python\\python38\\lib\\site-packages (from tensorflow) (24.2)\n",
      "Requirement already satisfied: protobuf<3.20,>=3.9.2 in c:\\users\\admin\\appdata\\local\\programs\\python\\python38\\lib\\site-packages (from tensorflow) (3.19.6)\n",
      "Requirement already satisfied: setuptools in c:\\users\\admin\\appdata\\local\\programs\\python\\python38\\lib\\site-packages (from tensorflow) (75.3.0)\n",
      "Requirement already satisfied: six>=1.12.0 in c:\\users\\admin\\appdata\\local\\programs\\python\\python38\\lib\\site-packages (from tensorflow) (1.17.0)\n",
      "Requirement already satisfied: termcolor>=1.1.0 in c:\\users\\admin\\appdata\\local\\programs\\python\\python38\\lib\\site-packages (from tensorflow) (2.4.0)\n",
      "Requirement already satisfied: typing-extensions>=3.6.6 in c:\\users\\admin\\appdata\\local\\programs\\python\\python38\\lib\\site-packages (from tensorflow) (4.12.2)\n",
      "Requirement already satisfied: wrapt>=1.11.0 in c:\\users\\admin\\appdata\\local\\programs\\python\\python38\\lib\\site-packages (from tensorflow) (1.17.0)\n",
      "Requirement already satisfied: tensorflow-io-gcs-filesystem>=0.23.1 in c:\\users\\admin\\appdata\\local\\programs\\python\\python38\\lib\\site-packages (from tensorflow) (0.31.0)\n",
      "Requirement already satisfied: grpcio<2.0,>=1.24.3 in c:\\users\\admin\\appdata\\local\\programs\\python\\python38\\lib\\site-packages (from tensorflow) (1.68.1)\n",
      "Requirement already satisfied: tensorboard<2.11,>=2.10 in c:\\users\\admin\\appdata\\local\\programs\\python\\python38\\lib\\site-packages (from tensorflow) (2.10.1)\n",
      "Requirement already satisfied: tensorflow-estimator<2.11,>=2.10.0 in c:\\users\\admin\\appdata\\local\\programs\\python\\python38\\lib\\site-packages (from tensorflow) (2.10.0)\n",
      "Requirement already satisfied: keras<2.11,>=2.10.0 in c:\\users\\admin\\appdata\\local\\programs\\python\\python38\\lib\\site-packages (from tensorflow) (2.10.0)\n",
      "Requirement already satisfied: Werkzeug>=3.0.0 in c:\\users\\admin\\appdata\\local\\programs\\python\\python38\\lib\\site-packages (from flask) (3.0.6)\n",
      "Requirement already satisfied: Jinja2>=3.1.2 in c:\\users\\admin\\appdata\\local\\programs\\python\\python38\\lib\\site-packages (from flask) (3.1.6)\n",
      "Requirement already satisfied: itsdangerous>=2.1.2 in c:\\users\\admin\\appdata\\local\\programs\\python\\python38\\lib\\site-packages (from flask) (2.2.0)\n",
      "Requirement already satisfied: click>=8.1.3 in c:\\users\\admin\\appdata\\local\\programs\\python\\python38\\lib\\site-packages (from flask) (8.1.8)\n",
      "Requirement already satisfied: blinker>=1.6.2 in c:\\users\\admin\\appdata\\local\\programs\\python\\python38\\lib\\site-packages (from flask) (1.8.2)\n",
      "Requirement already satisfied: importlib-metadata>=3.6.0 in c:\\users\\admin\\appdata\\local\\programs\\python\\python38\\lib\\site-packages (from flask) (8.5.0)\n",
      "Requirement already satisfied: contourpy>=1.0.1 in c:\\users\\admin\\appdata\\local\\programs\\python\\python38\\lib\\site-packages (from matplotlib) (1.1.1)\n",
      "Requirement already satisfied: cycler>=0.10 in c:\\users\\admin\\appdata\\local\\programs\\python\\python38\\lib\\site-packages (from matplotlib) (0.12.1)\n",
      "Requirement already satisfied: fonttools>=4.22.0 in c:\\users\\admin\\appdata\\local\\programs\\python\\python38\\lib\\site-packages (from matplotlib) (4.55.3)\n",
      "Requirement already satisfied: kiwisolver>=1.0.1 in c:\\users\\admin\\appdata\\local\\programs\\python\\python38\\lib\\site-packages (from matplotlib) (1.4.7)\n",
      "Requirement already satisfied: pillow>=6.2.0 in c:\\users\\admin\\appdata\\local\\programs\\python\\python38\\lib\\site-packages (from matplotlib) (10.4.0)\n",
      "Requirement already satisfied: pyparsing>=2.3.1 in c:\\users\\admin\\appdata\\local\\programs\\python\\python38\\lib\\site-packages (from matplotlib) (2.4.7)\n",
      "Requirement already satisfied: importlib-resources>=3.2.0 in c:\\users\\admin\\appdata\\local\\programs\\python\\python38\\lib\\site-packages (from matplotlib) (6.4.5)\n",
      "Requirement already satisfied: wheel<1.0,>=0.23.0 in c:\\users\\admin\\appdata\\local\\programs\\python\\python38\\lib\\site-packages (from astunparse>=1.6.0->tensorflow) (0.45.1)\n",
      "Requirement already satisfied: colorama in c:\\users\\admin\\appdata\\local\\programs\\python\\python38\\lib\\site-packages (from click>=8.1.3->flask) (0.4.6)\n",
      "Requirement already satisfied: zipp>=3.20 in c:\\users\\admin\\appdata\\local\\programs\\python\\python38\\lib\\site-packages (from importlib-metadata>=3.6.0->flask) (3.20.2)\n",
      "Requirement already satisfied: MarkupSafe>=2.0 in c:\\users\\admin\\appdata\\local\\programs\\python\\python38\\lib\\site-packages (from Jinja2>=3.1.2->flask) (2.1.5)\n",
      "Requirement already satisfied: google-auth<3,>=1.6.3 in c:\\users\\admin\\appdata\\local\\programs\\python\\python38\\lib\\site-packages (from tensorboard<2.11,>=2.10->tensorflow) (2.37.0)\n",
      "Requirement already satisfied: google-auth-oauthlib<0.5,>=0.4.1 in c:\\users\\admin\\appdata\\local\\programs\\python\\python38\\lib\\site-packages (from tensorboard<2.11,>=2.10->tensorflow) (0.4.6)\n",
      "Requirement already satisfied: markdown>=2.6.8 in c:\\users\\admin\\appdata\\local\\programs\\python\\python38\\lib\\site-packages (from tensorboard<2.11,>=2.10->tensorflow) (3.7)\n",
      "Requirement already satisfied: requests<3,>=2.21.0 in c:\\users\\admin\\appdata\\local\\programs\\python\\python38\\lib\\site-packages (from tensorboard<2.11,>=2.10->tensorflow) (2.28.1)\n",
      "Requirement already satisfied: tensorboard-data-server<0.7.0,>=0.6.0 in c:\\users\\admin\\appdata\\local\\programs\\python\\python38\\lib\\site-packages (from tensorboard<2.11,>=2.10->tensorflow) (0.6.1)\n",
      "Requirement already satisfied: tensorboard-plugin-wit>=1.6.0 in c:\\users\\admin\\appdata\\local\\programs\\python\\python38\\lib\\site-packages (from tensorboard<2.11,>=2.10->tensorflow) (1.8.1)\n",
      "Requirement already satisfied: cachetools<6.0,>=2.0.0 in c:\\users\\admin\\appdata\\local\\programs\\python\\python38\\lib\\site-packages (from google-auth<3,>=1.6.3->tensorboard<2.11,>=2.10->tensorflow) (5.5.0)\n",
      "Requirement already satisfied: pyasn1-modules>=0.2.1 in c:\\users\\admin\\appdata\\local\\programs\\python\\python38\\lib\\site-packages (from google-auth<3,>=1.6.3->tensorboard<2.11,>=2.10->tensorflow) (0.4.1)\n",
      "Requirement already satisfied: rsa<5,>=3.1.4 in c:\\users\\admin\\appdata\\local\\programs\\python\\python38\\lib\\site-packages (from google-auth<3,>=1.6.3->tensorboard<2.11,>=2.10->tensorflow) (4.9)\n",
      "Requirement already satisfied: requests-oauthlib>=0.7.0 in c:\\users\\admin\\appdata\\local\\programs\\python\\python38\\lib\\site-packages (from google-auth-oauthlib<0.5,>=0.4.1->tensorboard<2.11,>=2.10->tensorflow) (2.0.0)\n",
      "Requirement already satisfied: charset-normalizer<3,>=2 in c:\\users\\admin\\appdata\\local\\programs\\python\\python38\\lib\\site-packages (from requests<3,>=2.21.0->tensorboard<2.11,>=2.10->tensorflow) (2.1.1)\n",
      "Requirement already satisfied: idna<4,>=2.5 in c:\\users\\admin\\appdata\\local\\programs\\python\\python38\\lib\\site-packages (from requests<3,>=2.21.0->tensorboard<2.11,>=2.10->tensorflow) (3.10)\n",
      "Requirement already satisfied: urllib3<1.27,>=1.21.1 in c:\\users\\admin\\appdata\\local\\programs\\python\\python38\\lib\\site-packages (from requests<3,>=2.21.0->tensorboard<2.11,>=2.10->tensorflow) (1.26.20)\n",
      "Requirement already satisfied: certifi>=2017.4.17 in c:\\users\\admin\\appdata\\local\\programs\\python\\python38\\lib\\site-packages (from requests<3,>=2.21.0->tensorboard<2.11,>=2.10->tensorflow) (2024.12.14)\n",
      "Requirement already satisfied: pyasn1<0.7.0,>=0.4.6 in c:\\users\\admin\\appdata\\local\\programs\\python\\python38\\lib\\site-packages (from pyasn1-modules>=0.2.1->google-auth<3,>=1.6.3->tensorboard<2.11,>=2.10->tensorflow) (0.6.1)\n",
      "Requirement already satisfied: oauthlib>=3.0.0 in c:\\users\\admin\\appdata\\local\\programs\\python\\python38\\lib\\site-packages (from requests-oauthlib>=0.7.0->google-auth-oauthlib<0.5,>=0.4.1->tensorboard<2.11,>=2.10->tensorflow) (3.2.2)\n"
     ]
    }
   ],
   "source": [
    "!pip install pandas numpy scikit-learn tensorflow flask matplotlib joblib\n"
   ]
  },
  {
   "cell_type": "code",
   "execution_count": 2,
   "id": "4c9fdf8d-d857-4d66-823e-b2e207fbf4ea",
   "metadata": {},
   "outputs": [
    {
     "name": "stdout",
     "output_type": "stream",
     "text": [
      "Training Data:\n",
      "         Date      Time                              Route Direction  Cars  \\\n",
      "0  01-01-2023  00:00:00        Shivajinagar Bus Stand Road   Inbound    40   \n",
      "1  01-01-2023  00:00:00    Old Mumbai-Pune Highway (NH 60)   Inbound    15   \n",
      "2  01-01-2023  00:00:00             Mumbai-Pandharpur Road   Inbound    16   \n",
      "3  01-01-2023  00:00:00                  Sangamwadi Bridge   Inbound    61   \n",
      "4  01-01-2023  00:00:00  Sangam Bridge (Ground Level Road)   Inbound    46   \n",
      "\n",
      "   Trucks  Motorcycles  Buses  Car_Weight(kg)  Truck_Weight(kg)  ...  \\\n",
      "0      31           71      9           56680             97898  ...   \n",
      "1      33          121      0           16665            153978  ...   \n",
      "2      27          138     12           18624             98550  ...   \n",
      "3       6          139      7           77531             43650  ...   \n",
      "4       6           15      7           57270             38700  ...   \n",
      "\n",
      "   Road Maintenance  Surface Roughness (m/km)  Last Maintenance  \\\n",
      "0    Good Condition                      4.92        24-05-2016   \n",
      "1    Good Condition                      4.00        02-06-2017   \n",
      "2    Good Condition                      4.59        24-05-2016   \n",
      "3    Good Condition                      3.16        17-09-2015   \n",
      "4    Good Condition                      4.36        02-10-2018   \n",
      "\n",
      "   Road Age (years)  temperature(°C)_x  rainfall(mm)_x humidity(%)_x  \\\n",
      "0                 8                 13               0            46   \n",
      "1                 7                 13               0            46   \n",
      "2                 8                 13               0            46   \n",
      "3                 9                 13               0            46   \n",
      "4                 6                 13               0            46   \n",
      "\n",
      "  wind_speed(m/s)_x  average_temperature(°C)_x weather_condition_x  \n",
      "0         14.874391                  20.458333            Pleasant  \n",
      "1         14.874391                  20.458333            Pleasant  \n",
      "2         14.874391                  20.458333            Pleasant  \n",
      "3         14.874391                  20.458333            Pleasant  \n",
      "4         14.874391                  20.458333            Pleasant  \n",
      "\n",
      "[5 rows x 27 columns]\n",
      "\n",
      "Testing Data:\n",
      "         Date      Time                              Route Direction  Cars  \\\n",
      "0  01-02-2024  00:00:00        Shivajinagar Bus Stand Road   Inbound   131   \n",
      "1  01-02-2024  00:00:00    Old Mumbai-Pune Highway (NH 60)   Inbound    72   \n",
      "2  01-02-2024  00:00:00             Mumbai-Pandharpur Road   Inbound   163   \n",
      "3  01-02-2024  00:00:00                  Sangamwadi Bridge   Inbound     2   \n",
      "4  01-02-2024  00:00:00  Sangam Bridge (Ground Level Road)   Inbound   178   \n",
      "\n",
      "   Trucks  Motorcycles  Buses  Car_Weight(kg)  Truck_Weight(kg)  ...  \\\n",
      "0      48          145      5          248769            411264  ...   \n",
      "1      16          289     12          138168             82160  ...   \n",
      "2      17          172     24          305951             92106  ...   \n",
      "3      21           71     10            3986            138768  ...   \n",
      "4       4           26     24          293344             18028  ...   \n",
      "\n",
      "   Road Maintenance  Surface Roughness (m/km)  Last Maintenance  \\\n",
      "0    Good Condition                      4.92        24-05-2016   \n",
      "1    Good Condition                      4.00        02-06-2017   \n",
      "2    Good Condition                      4.59        24-05-2016   \n",
      "3    Good Condition                      3.16        17-09-2015   \n",
      "4    Good Condition                      4.36        02-10-2018   \n",
      "\n",
      "   Road Age (years)  temperature(°C)_x  rainfall(mm)_x humidity(%)_x  \\\n",
      "0                 8                 22               0            42   \n",
      "1                 7                 22               0            42   \n",
      "2                 8                 22               0            42   \n",
      "3                 9                 22               0            42   \n",
      "4                 6                 22               0            42   \n",
      "\n",
      "  wind_speed(m/s)_x  average_temperature((°C)_x weather_condition_x  \n",
      "0         34.203561                   28.166667         Clear skies  \n",
      "1         34.203561                   28.166667         Clear skies  \n",
      "2         34.203561                   28.166667         Clear skies  \n",
      "3         34.203561                   28.166667         Clear skies  \n",
      "4         34.203561                   28.166667         Clear skies  \n",
      "\n",
      "[5 rows x 27 columns]\n"
     ]
    }
   ],
   "source": [
    "import pandas as pd\n",
    "\n",
    "# Load the merged training and testing datasets\n",
    "train_data = pd.read_csv(r'D:\\Aaknaksha\\AG2295 vaishnavi\\merged training set.csv')\n",
    "test_data = pd.read_csv(r'D:\\Aaknaksha\\AG2295 vaishnavi\\merged testing set.csv')\n",
    "\n",
    "# Display the first few rows of the training and testing datasets\n",
    "print(\"Training Data:\")\n",
    "print(train_data.head())\n",
    "\n",
    "print(\"\\nTesting Data:\")\n",
    "print(test_data.head())\n"
   ]
  },
  {
   "cell_type": "code",
   "execution_count": 3,
   "id": "1ad53d70-d372-4b89-8096-2fd09fd54306",
   "metadata": {},
   "outputs": [
    {
     "name": "stdout",
     "output_type": "stream",
     "text": [
      "Updated Training Data Columns:\n",
      "Index(['Date', 'Time', 'Route', 'Direction', 'Cars', 'Trucks', 'Motorcycles',\n",
      "       'Buses', 'Car_Weight(kg)', 'Truck_Weight(kg)', 'Motorcycle_Weight(kg)',\n",
      "       'Bus_Weight(kg)', 'Avg_Speed(m/s)', 'Avg_Weight(kg)', 'Incident_Count',\n",
      "       'Wear_Index', 'Road Material', 'Road Maintenance',\n",
      "       'Surface Roughness (m/km)', 'Last Maintenance', 'Road Age (years)',\n",
      "       'temperature(°C)_x', 'rainfall(mm)_x', 'humidity(%)_x',\n",
      "       'wind_speed(m/s)_x', 'average_temperature(°C)_x',\n",
      "       'weather_condition_x'],\n",
      "      dtype='object')\n",
      "\n",
      "Updated Testing Data Columns:\n",
      "Index(['Date', 'Time', 'Route', 'Direction', 'Cars', 'Trucks', 'Motorcycles',\n",
      "       'Buses', 'Car_Weight(kg)', 'Truck_Weight(kg)', 'Motorcycle_Weight(kg)',\n",
      "       'Bus_Weight(kg)', 'Avg_Speed(m/s)', 'Avg_Weight(kg)', 'Incident_Count',\n",
      "       'Wear_Index', 'Road Material', 'Road Maintenance',\n",
      "       'Surface Roughness (m/km)', 'Last Maintenance', 'Road Age (years)',\n",
      "       'temperature(°C)_x', 'rainfall(mm)_x', 'humidity(%)_x',\n",
      "       'wind_speed(m/s)_x', 'average_temperature(°C)_x',\n",
      "       'weather_condition_x'],\n",
      "      dtype='object')\n"
     ]
    }
   ],
   "source": [
    "# Strip any leading/trailing spaces from column names in both training and testing data\n",
    "train_data.columns = train_data.columns.str.strip()\n",
    "test_data.columns = test_data.columns.str.strip()\n",
    "\n",
    "# Rename the column 'average_temperature((°C)_x' to match 'average_temperature(°C)_x' in testing data\n",
    "test_data.rename(columns={'average_temperature((°C)_x': 'average_temperature(°C)_x'}, inplace=True)\n",
    "\n",
    "# Rename 'Incident_Count ' column in training data to remove the trailing space\n",
    "train_data.rename(columns={'Incident_Count ': 'Incident_Count'}, inplace=True)\n",
    "\n",
    "# Print the updated column names to verify\n",
    "print(\"Updated Training Data Columns:\")\n",
    "print(train_data.columns)\n",
    "\n",
    "print(\"\\nUpdated Testing Data Columns:\")\n",
    "print(test_data.columns)\n"
   ]
  },
  {
   "cell_type": "code",
   "execution_count": 4,
   "id": "a77d7524-4efc-4cb9-b46d-f262fa79e9de",
   "metadata": {},
   "outputs": [
    {
     "name": "stdout",
     "output_type": "stream",
     "text": [
      "   Cars  Trucks  Motorcycles  Buses  Car_Weight(kg)  Truck_Weight(kg)  \\\n",
      "0   148      82           88     49            3784             13968   \n",
      "1  1873     213           67     10            3946              7595   \n",
      "2   248     278          430      1            2342              8486   \n",
      "3   439      42          291     17            4014              9564   \n",
      "4   798      90          233     36            4134              9424   \n",
      "\n",
      "   Motorcycle_Weight(kg)  Bus_Weight(kg)  Avg_Speed(m/s)  Avg_Weight(kg)  \\\n",
      "0                    378            2634       18.907281     2316.010131   \n",
      "1                    433            7442       18.178374     1080.153220   \n",
      "2                    481            2711       11.464153     2010.140409   \n",
      "3                    242            6265       13.330556     1978.283100   \n",
      "4                    280            7170       20.764718     1011.064410   \n",
      "\n",
      "   Incident_Count  Surface Roughness (m/km)  Road Age (years)  \\\n",
      "0               2                  3.619237                10   \n",
      "1               4                  4.290358                22   \n",
      "2               5                  3.742436                19   \n",
      "3               0                  3.507511                47   \n",
      "4               6                  3.639856                37   \n",
      "\n",
      "   temperature(°C)_x  rainfall(mm)_x  humidity(%)_x  wind_speed(m/s)_x  \\\n",
      "0          12.168461       11.918197      63.781939          17.149216   \n",
      "1          16.860480       12.263355      45.145372          14.718030   \n",
      "2          19.251913        6.302909      41.504650           3.318337   \n",
      "3          39.712390       15.404675      70.124663          29.132323   \n",
      "4          25.571950        5.071312      62.123559           7.219284   \n",
      "\n",
      "   average_temperature(°C)_x weather_condition_x   Wear_Index  \n",
      "0                  33.674185              Stormy   125.564088  \n",
      "1                  17.502279            Pleasant  1022.250557  \n",
      "2                  23.936709         Clear skies   298.245914  \n",
      "3                  21.937881         Clear skies   294.542841  \n",
      "4                  21.594630              Stormy   472.624664  \n"
     ]
    }
   ],
   "source": [
    "import pandas as pd\n",
    "\n",
    "# Path to the dataset\n",
    "file_path = r'D:\\Aaknaksha\\AG2295 vaishnavi\\preprocessed_simulated_road_data.csv'\n",
    "\n",
    "# Load the dataset\n",
    "data = pd.read_csv(file_path)\n",
    "\n",
    "# Display the first few rows of the dataset\n",
    "print(data.head())\n"
   ]
  },
  {
   "cell_type": "code",
   "execution_count": 8,
   "id": "24cded2b-227a-429b-ac25-fb23780debe4",
   "metadata": {},
   "outputs": [
    {
     "name": "stdout",
     "output_type": "stream",
     "text": [
      "   weather_condition_x\n",
      "0                    3\n",
      "1                    1\n",
      "2                    0\n",
      "3                    0\n",
      "4                    3\n"
     ]
    }
   ],
   "source": [
    "# Load the preprocessed dataset again\n",
    "import pandas as pd\n",
    "\n",
    "preprocessed_data = pd.read_csv('D:/Aaknaksha/AG2295 vaishnavi/final_preprocessed_road_data.csv')\n",
    "\n",
    "# Now apply Label Encoding to the categorical column\n",
    "from sklearn.preprocessing import LabelEncoder\n",
    "\n",
    "# Initialize the LabelEncoder\n",
    "label_encoder = LabelEncoder()\n",
    "\n",
    "# Apply Label Encoding to the 'weather_condition_x' column\n",
    "preprocessed_data['weather_condition_x'] = label_encoder.fit_transform(preprocessed_data['weather_condition_x'])\n",
    "\n",
    "# Verify the encoding\n",
    "print(preprocessed_data[['weather_condition_x']].head())\n"
   ]
  },
  {
   "cell_type": "code",
   "execution_count": 9,
   "id": "8a3b32c0-6513-44ef-b785-303c448e8210",
   "metadata": {},
   "outputs": [
    {
     "name": "stdout",
     "output_type": "stream",
     "text": [
      "       Cars    Trucks  Motorcycles     Buses  Car_Weight(kg)  \\\n",
      "0  0.022703  0.274247     0.084633  1.000000        0.696545   \n",
      "1  0.933474  0.712375     0.037862  0.204082        0.737106   \n",
      "2  0.075502  0.929766     0.846325  0.020408        0.335503   \n",
      "3  0.176346  0.140468     0.536748  0.346939        0.754131   \n",
      "4  0.365892  0.301003     0.407572  0.734694        0.784176   \n",
      "\n",
      "   Truck_Weight(kg)  Motorcycle_Weight(kg)  Bus_Weight(kg)  Avg_Speed(m/s)  \\\n",
      "0          0.898927               0.696742        0.078849        0.696055   \n",
      "1          0.259902               0.834586        0.680601        0.659560   \n",
      "2          0.349243               0.954887        0.088486        0.323390   \n",
      "3          0.457335               0.355890        0.533292        0.416838   \n",
      "4          0.443297               0.451128        0.646558        0.789053   \n",
      "\n",
      "   Avg_Weight(kg)  Incident_Count  Surface Roughness (m/km)  Road Age (years)  \\\n",
      "0        0.657623        0.222222                  0.321176          0.187500   \n",
      "1        0.037498        0.444444                  0.513810          0.437500   \n",
      "2        0.504144        0.555556                  0.356538          0.375000   \n",
      "3        0.488159        0.000000                  0.289107          0.958333   \n",
      "4        0.002830        0.666667                  0.327094          0.750000   \n",
      "\n",
      "   temperature(°C)_x  rainfall(mm)_x  humidity(%)_x  wind_speed(m/s)_x  \\\n",
      "0           0.072099        0.595938       0.396271           0.571524   \n",
      "1           0.228577        0.613202       0.085496           0.490285   \n",
      "2           0.308330        0.315070       0.024785           0.109360   \n",
      "3           0.990681        0.770326       0.502039           0.971944   \n",
      "4           0.519102        0.253468       0.368617           0.239712   \n",
      "\n",
      "   average_temperature(°C)_x  weather_condition_x   Wear_Index  \n",
      "0                   0.934596             1.000000   125.564088  \n",
      "1                   0.124765             0.333333  1022.250557  \n",
      "2                   0.446978             0.000000   298.245914  \n",
      "3                   0.346884             0.000000   294.542841  \n",
      "4                   0.329695             1.000000   472.624664  \n"
     ]
    }
   ],
   "source": [
    "from sklearn.preprocessing import MinMaxScaler\n",
    "\n",
    "# List of numerical columns to normalize\n",
    "numerical_columns = ['Cars', 'Trucks', 'Motorcycles', 'Buses', 'Car_Weight(kg)', 'Truck_Weight(kg)', \n",
    "                     'Motorcycle_Weight(kg)', 'Bus_Weight(kg)', 'Avg_Speed(m/s)', 'Avg_Weight(kg)', \n",
    "                     'Incident_Count', 'Surface Roughness (m/km)', 'Road Age (years)', 'temperature(°C)_x', \n",
    "                     'rainfall(mm)_x', 'humidity(%)_x', 'wind_speed(m/s)_x', 'average_temperature(°C)_x',\n",
    "                     'weather_condition_x']  # Include encoded categorical column\n",
    "\n",
    "# Initialize MinMaxScaler\n",
    "scaler = MinMaxScaler(feature_range=(0, 1))\n",
    "\n",
    "# Normalize the numerical columns\n",
    "preprocessed_data[numerical_columns] = scaler.fit_transform(preprocessed_data[numerical_columns])\n",
    "\n",
    "# Verify the normalized data\n",
    "print(preprocessed_data.head())\n"
   ]
  },
  {
   "cell_type": "code",
   "execution_count": 10,
   "id": "8555595f-f2d1-46d8-8df9-6c2e0cbfb0d2",
   "metadata": {},
   "outputs": [
    {
     "name": "stdout",
     "output_type": "stream",
     "text": [
      "Training set shape: (800, 19), (800,)\n",
      "Testing set shape: (200, 19), (200,)\n"
     ]
    }
   ],
   "source": [
    "import pandas as pd\n",
    "\n",
    "# Path to the dataset\n",
    "file_path = r'D:\\Aaknaksha\\AG2295 vaishnavi\\preprocessed_simulated_road_data.csv'\n",
    "\n",
    "# Load the dataset\n",
    "preprocessed_data = pd.read_csv(file_path)\n",
    "\n",
    "# Features (X) and target (y) for model training\n",
    "X = preprocessed_data.drop('Wear_Index', axis=1)  # Drop 'Wear_Index' column from features\n",
    "y = preprocessed_data['Wear_Index']  # 'Wear_Index' is the target variable\n",
    "\n",
    "# Split the data into training and testing sets (80% train, 20% test)\n",
    "from sklearn.model_selection import train_test_split\n",
    "\n",
    "X_train, X_test, y_train, y_test = train_test_split(X, y, test_size=0.2, random_state=42)\n",
    "\n",
    "# Display the shape of training and testing sets\n",
    "print(f\"Training set shape: {X_train.shape}, {y_train.shape}\")\n",
    "print(f\"Testing set shape: {X_test.shape}, {y_test.shape}\")\n"
   ]
  },
  {
   "cell_type": "code",
   "execution_count": 13,
   "id": "6c85c261-bf1f-4176-8414-237e860830c1",
   "metadata": {},
   "outputs": [
    {
     "name": "stdout",
     "output_type": "stream",
     "text": [
      "Processed data saved to: D:\\Aaknaksha\\AG2295 vaishnavi\\final_preprocessed_road_data.csv\n"
     ]
    }
   ],
   "source": [
    "# Path to save the processed dataset\n",
    "processed_data_path = r'D:\\Aaknaksha\\AG2295 vaishnavi\\final_preprocessed_road_data.csv'\n",
    "\n",
    "# Save the processed data to a CSV file\n",
    "preprocessed_data.to_csv(processed_data_path, index=False)\n",
    "\n",
    "print(f\"Processed data saved to: {processed_data_path}\")\n"
   ]
  },
  {
   "cell_type": "code",
   "execution_count": 14,
   "id": "56f89294-f45b-49dc-8715-52b71120c83c",
   "metadata": {},
   "outputs": [
    {
     "name": "stdout",
     "output_type": "stream",
     "text": [
      "   Cars  Trucks  Motorcycles  Buses  Car_Weight(kg)  Truck_Weight(kg)  \\\n",
      "0   148      82           88     49            3784             13968   \n",
      "1  1873     213           67     10            3946              7595   \n",
      "2   248     278          430      1            2342              8486   \n",
      "3   439      42          291     17            4014              9564   \n",
      "4   798      90          233     36            4134              9424   \n",
      "\n",
      "   Motorcycle_Weight(kg)  Bus_Weight(kg)  Avg_Speed(m/s)  Avg_Weight(kg)  \\\n",
      "0                    378            2634       18.907281     2316.010131   \n",
      "1                    433            7442       18.178374     1080.153220   \n",
      "2                    481            2711       11.464153     2010.140409   \n",
      "3                    242            6265       13.330556     1978.283100   \n",
      "4                    280            7170       20.764718     1011.064410   \n",
      "\n",
      "   Incident_Count  Surface Roughness (m/km)  Road Age (years)  \\\n",
      "0               2                  3.619237                10   \n",
      "1               4                  4.290358                22   \n",
      "2               5                  3.742436                19   \n",
      "3               0                  3.507511                47   \n",
      "4               6                  3.639856                37   \n",
      "\n",
      "   temperature(°C)_x  rainfall(mm)_x  humidity(%)_x  wind_speed(m/s)_x  \\\n",
      "0          12.168461       11.918197      63.781939          17.149216   \n",
      "1          16.860480       12.263355      45.145372          14.718030   \n",
      "2          19.251913        6.302909      41.504650           3.318337   \n",
      "3          39.712390       15.404675      70.124663          29.132323   \n",
      "4          25.571950        5.071312      62.123559           7.219284   \n",
      "\n",
      "   average_temperature(°C)_x weather_condition_x   Wear_Index  \n",
      "0                  33.674185              Stormy   125.564088  \n",
      "1                  17.502279            Pleasant  1022.250557  \n",
      "2                  23.936709         Clear skies   298.245914  \n",
      "3                  21.937881         Clear skies   294.542841  \n",
      "4                  21.594630              Stormy   472.624664  \n"
     ]
    }
   ],
   "source": [
    "import pandas as pd\n",
    "\n",
    "# Load the preprocessed dataset\n",
    "preprocessed_data = pd.read_csv('D:/Aaknaksha/AG2295 vaishnavi/final_preprocessed_road_data.csv')\n",
    "\n",
    "# Display the first few rows of the data\n",
    "print(preprocessed_data.head())\n"
   ]
  },
  {
   "cell_type": "code",
   "execution_count": 15,
   "id": "089bbce5-0456-4bbc-8fec-23f8e477c633",
   "metadata": {},
   "outputs": [
    {
     "name": "stdout",
     "output_type": "stream",
     "text": [
      "Training data shape: (800, 19)\n",
      "Testing data shape: (200, 19)\n"
     ]
    }
   ],
   "source": [
    "# Features (X) and target (y) for model training\n",
    "X = preprocessed_data.drop('Wear_Index', axis=1)  # Drop the target column from the features\n",
    "y = preprocessed_data['Wear_Index']  # 'Wear_Index' is the target variable\n",
    "\n",
    "# Split the data into training and testing sets (80% train, 20% test)\n",
    "from sklearn.model_selection import train_test_split\n",
    "X_train, X_test, y_train, y_test = train_test_split(X, y, test_size=0.2, random_state=42)\n",
    "\n",
    "# Check the shapes of the split data\n",
    "print(\"Training data shape:\", X_train.shape)\n",
    "print(\"Testing data shape:\", X_test.shape)\n"
   ]
  },
  {
   "cell_type": "code",
   "execution_count": 17,
   "id": "0bfc32ed-b8fc-44aa-aa96-659c8f81f96e",
   "metadata": {},
   "outputs": [
    {
     "name": "stdout",
     "output_type": "stream",
     "text": [
      "   weather_condition_x\n",
      "0                    3\n",
      "1                    1\n",
      "2                    0\n",
      "3                    0\n",
      "4                    3\n"
     ]
    }
   ],
   "source": [
    "# List of all categorical columns\n",
    "categorical_columns = ['weather_condition_x']  # Add more columns if there are others\n",
    "\n",
    "# Initialize LabelEncoder\n",
    "from sklearn.preprocessing import LabelEncoder\n",
    "label_encoder = LabelEncoder()\n",
    "\n",
    "# Encode the categorical columns\n",
    "for col in categorical_columns:\n",
    "    preprocessed_data[col] = label_encoder.fit_transform(preprocessed_data[col])\n",
    "\n",
    "# Check the encoded columns to ensure proper encoding\n",
    "print(preprocessed_data[categorical_columns].head())\n"
   ]
  },
  {
   "cell_type": "code",
   "execution_count": 18,
   "id": "d8a1ec34-4f90-40ae-8b37-fe36604094cf",
   "metadata": {},
   "outputs": [
    {
     "name": "stdout",
     "output_type": "stream",
     "text": [
      "       Cars    Trucks  Motorcycles     Buses  Car_Weight(kg)  \\\n",
      "0  0.022703  0.274247     0.084633  1.000000        0.696545   \n",
      "1  0.933474  0.712375     0.037862  0.204082        0.737106   \n",
      "2  0.075502  0.929766     0.846325  0.020408        0.335503   \n",
      "3  0.176346  0.140468     0.536748  0.346939        0.754131   \n",
      "4  0.365892  0.301003     0.407572  0.734694        0.784176   \n",
      "\n",
      "   Truck_Weight(kg)  Motorcycle_Weight(kg)  Bus_Weight(kg)  Avg_Speed(m/s)  \\\n",
      "0          0.898927               0.696742        0.078849        0.696055   \n",
      "1          0.259902               0.834586        0.680601        0.659560   \n",
      "2          0.349243               0.954887        0.088486        0.323390   \n",
      "3          0.457335               0.355890        0.533292        0.416838   \n",
      "4          0.443297               0.451128        0.646558        0.789053   \n",
      "\n",
      "   Avg_Weight(kg)  Incident_Count  Surface Roughness (m/km)  Road Age (years)  \\\n",
      "0        0.657623        0.222222                  0.321176          0.187500   \n",
      "1        0.037498        0.444444                  0.513810          0.437500   \n",
      "2        0.504144        0.555556                  0.356538          0.375000   \n",
      "3        0.488159        0.000000                  0.289107          0.958333   \n",
      "4        0.002830        0.666667                  0.327094          0.750000   \n",
      "\n",
      "   temperature(°C)_x  rainfall(mm)_x  humidity(%)_x  wind_speed(m/s)_x  \\\n",
      "0           0.072099        0.595938       0.396271           0.571524   \n",
      "1           0.228577        0.613202       0.085496           0.490285   \n",
      "2           0.308330        0.315070       0.024785           0.109360   \n",
      "3           0.990681        0.770326       0.502039           0.971944   \n",
      "4           0.519102        0.253468       0.368617           0.239712   \n",
      "\n",
      "   average_temperature(°C)_x  weather_condition_x   Wear_Index  \n",
      "0                   0.934596             1.000000   125.564088  \n",
      "1                   0.124765             0.333333  1022.250557  \n",
      "2                   0.446978             0.000000   298.245914  \n",
      "3                   0.346884             0.000000   294.542841  \n",
      "4                   0.329695             1.000000   472.624664  \n"
     ]
    }
   ],
   "source": [
    "from sklearn.preprocessing import MinMaxScaler\n",
    "\n",
    "# List of numerical columns to normalize\n",
    "numerical_columns = ['Cars', 'Trucks', 'Motorcycles', 'Buses', 'Car_Weight(kg)', 'Truck_Weight(kg)', \n",
    "                     'Motorcycle_Weight(kg)', 'Bus_Weight(kg)', 'Avg_Speed(m/s)', 'Avg_Weight(kg)', \n",
    "                     'Incident_Count', 'Surface Roughness (m/km)', 'Road Age (years)', 'temperature(°C)_x', \n",
    "                     'rainfall(mm)_x', 'humidity(%)_x', 'wind_speed(m/s)_x', 'average_temperature(°C)_x',\n",
    "                     'weather_condition_x']  # Ensure encoded categorical column is also here\n",
    "\n",
    "# Initialize MinMaxScaler\n",
    "scaler = MinMaxScaler(feature_range=(0, 1))\n",
    "\n",
    "# Normalize the numerical columns\n",
    "preprocessed_data[numerical_columns] = scaler.fit_transform(preprocessed_data[numerical_columns])\n",
    "\n",
    "# Verify the normalized data\n",
    "print(preprocessed_data.head())\n"
   ]
  },
  {
   "cell_type": "code",
   "execution_count": 19,
   "id": "10c2e5e0-1525-4967-8aa0-1186dbed7a54",
   "metadata": {},
   "outputs": [
    {
     "name": "stdout",
     "output_type": "stream",
     "text": [
      "Shape of LSTM input data: (1000, 1, 19)\n"
     ]
    }
   ],
   "source": [
    "# Features (X) and target (y) for LSTM model\n",
    "X = preprocessed_data.drop('Wear_Index', axis=1)  # Drop 'Wear_Index' from features\n",
    "y = preprocessed_data['Wear_Index']  # 'Wear_Index' is the target variable\n",
    "\n",
    "# Reshape the data for LSTM input (LSTM expects 3D input: [samples, timesteps, features])\n",
    "X_lstm = X.values.astype(np.float32).reshape(X.shape[0], 1, X.shape[1])\n",
    "\n",
    "# Check the shape of the data for LSTM\n",
    "print(f\"Shape of LSTM input data: {X_lstm.shape}\")\n"
   ]
  },
  {
   "cell_type": "code",
   "execution_count": 20,
   "id": "58eebfff-f698-4bcf-a70c-f5e46817c18e",
   "metadata": {},
   "outputs": [
    {
     "name": "stdout",
     "output_type": "stream",
     "text": [
      "Epoch 1/50\n",
      "16/16 [==============================] - 2s 3ms/step - loss: 472650.4375\n",
      "Epoch 2/50\n",
      "16/16 [==============================] - 0s 4ms/step - loss: 471767.2812\n",
      "Epoch 3/50\n",
      "16/16 [==============================] - 0s 4ms/step - loss: 470457.0625\n",
      "Epoch 4/50\n",
      "16/16 [==============================] - 0s 3ms/step - loss: 468538.7812\n",
      "Epoch 5/50\n",
      "16/16 [==============================] - 0s 2ms/step - loss: 466005.8438\n",
      "Epoch 6/50\n",
      "16/16 [==============================] - 0s 3ms/step - loss: 463027.3125\n",
      "Epoch 7/50\n",
      "16/16 [==============================] - 0s 2ms/step - loss: 459785.0625\n",
      "Epoch 8/50\n",
      "16/16 [==============================] - 0s 4ms/step - loss: 456529.5000\n",
      "Epoch 9/50\n",
      "16/16 [==============================] - 0s 3ms/step - loss: 453305.2500\n",
      "Epoch 10/50\n",
      "16/16 [==============================] - 0s 3ms/step - loss: 450168.5625\n",
      "Epoch 11/50\n",
      "16/16 [==============================] - 0s 2ms/step - loss: 447230.5625\n",
      "Epoch 12/50\n",
      "16/16 [==============================] - 0s 2ms/step - loss: 444513.8750\n",
      "Epoch 13/50\n",
      "16/16 [==============================] - 0s 3ms/step - loss: 441777.6562\n",
      "Epoch 14/50\n",
      "16/16 [==============================] - 0s 3ms/step - loss: 439252.6250\n",
      "Epoch 15/50\n",
      "16/16 [==============================] - 0s 4ms/step - loss: 436881.2812\n",
      "Epoch 16/50\n",
      "16/16 [==============================] - 0s 3ms/step - loss: 434635.5625\n",
      "Epoch 17/50\n",
      "16/16 [==============================] - 0s 2ms/step - loss: 432276.3125\n",
      "Epoch 18/50\n",
      "16/16 [==============================] - 0s 2ms/step - loss: 430084.2188\n",
      "Epoch 19/50\n",
      "16/16 [==============================] - 0s 3ms/step - loss: 428057.7188\n",
      "Epoch 20/50\n",
      "16/16 [==============================] - 0s 3ms/step - loss: 426184.0938\n",
      "Epoch 21/50\n",
      "16/16 [==============================] - 0s 4ms/step - loss: 424002.9062\n",
      "Epoch 22/50\n",
      "16/16 [==============================] - 0s 3ms/step - loss: 422039.5312\n",
      "Epoch 23/50\n",
      "16/16 [==============================] - 0s 3ms/step - loss: 420245.7812\n",
      "Epoch 24/50\n",
      "16/16 [==============================] - 0s 3ms/step - loss: 418350.1875\n",
      "Epoch 25/50\n",
      "16/16 [==============================] - 0s 3ms/step - loss: 416664.3125\n",
      "Epoch 26/50\n",
      "16/16 [==============================] - 0s 4ms/step - loss: 414787.0312\n",
      "Epoch 27/50\n",
      "16/16 [==============================] - 0s 3ms/step - loss: 413038.3750\n",
      "Epoch 28/50\n",
      "16/16 [==============================] - 0s 3ms/step - loss: 411445.8750\n",
      "Epoch 29/50\n",
      "16/16 [==============================] - 0s 2ms/step - loss: 409607.1562\n",
      "Epoch 30/50\n",
      "16/16 [==============================] - 0s 2ms/step - loss: 407896.8438\n",
      "Epoch 31/50\n",
      "16/16 [==============================] - 0s 2ms/step - loss: 406115.0938\n",
      "Epoch 32/50\n",
      "16/16 [==============================] - 0s 2ms/step - loss: 404677.8125\n",
      "Epoch 33/50\n",
      "16/16 [==============================] - 0s 3ms/step - loss: 402868.0625\n",
      "Epoch 34/50\n",
      "16/16 [==============================] - 0s 4ms/step - loss: 401407.0625\n",
      "Epoch 35/50\n",
      "16/16 [==============================] - 0s 3ms/step - loss: 399798.7812\n",
      "Epoch 36/50\n",
      "16/16 [==============================] - 0s 3ms/step - loss: 398014.9688\n",
      "Epoch 37/50\n",
      "16/16 [==============================] - 0s 3ms/step - loss: 396727.2500\n",
      "Epoch 38/50\n",
      "16/16 [==============================] - 0s 3ms/step - loss: 394999.0312\n",
      "Epoch 39/50\n",
      "16/16 [==============================] - 0s 2ms/step - loss: 393534.7500\n",
      "Epoch 40/50\n",
      "16/16 [==============================] - 0s 2ms/step - loss: 391744.4688\n",
      "Epoch 41/50\n",
      "16/16 [==============================] - 0s 5ms/step - loss: 390559.0625\n",
      "Epoch 42/50\n",
      "16/16 [==============================] - 0s 2ms/step - loss: 388930.6250\n",
      "Epoch 43/50\n",
      "16/16 [==============================] - 0s 3ms/step - loss: 387381.1562\n",
      "Epoch 44/50\n",
      "16/16 [==============================] - 0s 3ms/step - loss: 386031.3125\n",
      "Epoch 45/50\n",
      "16/16 [==============================] - 0s 2ms/step - loss: 384257.8438\n",
      "Epoch 46/50\n",
      "16/16 [==============================] - 0s 4ms/step - loss: 382975.4375\n",
      "Epoch 47/50\n",
      "16/16 [==============================] - 0s 2ms/step - loss: 381566.1875\n",
      "Epoch 48/50\n",
      "16/16 [==============================] - 0s 2ms/step - loss: 380207.4375\n",
      "Epoch 49/50\n",
      "16/16 [==============================] - 0s 2ms/step - loss: 378814.9688\n",
      "Epoch 50/50\n",
      "16/16 [==============================] - 0s 3ms/step - loss: 377328.0938\n"
     ]
    }
   ],
   "source": [
    "from tensorflow.keras.models import Sequential\n",
    "from tensorflow.keras.layers import LSTM, Dense, Dropout\n",
    "\n",
    "# Build the LSTM model\n",
    "lstm_model = Sequential()\n",
    "lstm_model.add(LSTM(units=100, return_sequences=False, input_shape=(X_lstm.shape[1], X_lstm.shape[2])))\n",
    "lstm_model.add(Dropout(0.2))  # Dropout layer to prevent overfitting\n",
    "lstm_model.add(Dense(units=1))  # Output layer for road wear prediction\n",
    "lstm_model.compile(optimizer='adam', loss='mean_squared_error')\n",
    "\n",
    "# Train the LSTM model\n",
    "lstm_model.fit(X_lstm, y, epochs=50, batch_size=64)\n",
    "\n",
    "# Save the trained LSTM model\n",
    "lstm_model.save('road_wear_lstm_model.h5')\n"
   ]
  },
  {
   "cell_type": "code",
   "execution_count": 21,
   "id": "5a60057f-1a3f-4ce9-91cd-9ea63b19a0f3",
   "metadata": {},
   "outputs": [
    {
     "name": "stdout",
     "output_type": "stream",
     "text": [
      "32/32 [==============================] - 1s 2ms/step\n",
      "Mean Absolute Error (LSTM): 545.7925879362666\n"
     ]
    }
   ],
   "source": [
    "# Predict using the trained LSTM model\n",
    "lstm_predictions = lstm_model.predict(X_lstm)\n",
    "\n",
    "# Calculate Mean Absolute Error (MAE) for evaluation\n",
    "from sklearn.metrics import mean_absolute_error\n",
    "mae = mean_absolute_error(y, lstm_predictions)\n",
    "print(f\"Mean Absolute Error (LSTM): {mae}\")\n"
   ]
  },
  {
   "cell_type": "code",
   "execution_count": 22,
   "id": "9b24b923-7f45-4c6d-9bbd-82d10d1b4f11",
   "metadata": {},
   "outputs": [
    {
     "data": {
      "image/png": "[encoded data removed]",
      "text/plain": [
       "<Figure size 1000x600 with 1 Axes>"
      ]
     },
     "metadata": {},
     "output_type": "display_data"
    }
   ],
   "source": [
    "import matplotlib.pyplot as plt\n",
    "\n",
    "# Plot the true vs predicted road wear\n",
    "plt.figure(figsize=(10, 6))\n",
    "plt.plot(y.values, label=\"True Road Wear\")\n",
    "plt.plot(lstm_predictions, label=\"Predicted Road Wear\", linestyle=\"--\")\n",
    "plt.legend()\n",
    "plt.title(\"True vs Predicted Road Wear (LSTM Model)\")\n",
    "plt.xlabel(\"Test Samples\")\n",
    "plt.ylabel(\"Road Wear Index\")\n",
    "plt.show()\n"
   ]
  },
  {
   "cell_type": "code",
   "execution_count": 26,
   "id": "52514852-7513-4199-bb76-11f7df1fa051",
   "metadata": {},
   "outputs": [
    {
     "name": "stdout",
     "output_type": "stream",
     "text": [
      "   weather_condition_x\n",
      "0                    3\n",
      "1                    1\n",
      "2                    0\n",
      "3                    0\n",
      "4                    3\n"
     ]
    }
   ],
   "source": [
    "from sklearn.preprocessing import LabelEncoder\n",
    "\n",
    "# Encode categorical columns (in this case, 'weather_condition_x')\n",
    "categorical_columns = ['weather_condition_x']  # Add more columns if needed\n",
    "\n",
    "label_encoder = LabelEncoder()\n",
    "\n",
    "# Apply Label Encoding to the categorical columns\n",
    "for col in categorical_columns:\n",
    "    preprocessed_data[col] = label_encoder.fit_transform(preprocessed_data[col])\n",
    "\n",
    "# Verify the encoding was successful\n",
    "print(preprocessed_data[categorical_columns].head())\n"
   ]
  },
  {
   "cell_type": "code",
   "execution_count": 27,
   "id": "1ca99ab6-d6cf-48c2-bb50-89241836e4b8",
   "metadata": {},
   "outputs": [
    {
     "name": "stdout",
     "output_type": "stream",
     "text": [
      "Cars                         float64\n",
      "Trucks                       float64\n",
      "Motorcycles                  float64\n",
      "Buses                        float64\n",
      "Car_Weight(kg)               float64\n",
      "Truck_Weight(kg)             float64\n",
      "Motorcycle_Weight(kg)        float64\n",
      "Bus_Weight(kg)               float64\n",
      "Avg_Speed(m/s)               float64\n",
      "Avg_Weight(kg)               float64\n",
      "Incident_Count               float64\n",
      "Surface Roughness (m/km)     float64\n",
      "Road Age (years)             float64\n",
      "temperature(°C)_x            float64\n",
      "rainfall(mm)_x               float64\n",
      "humidity(%)_x                float64\n",
      "wind_speed(m/s)_x            float64\n",
      "average_temperature(°C)_x    float64\n",
      "weather_condition_x            int64\n",
      "dtype: object\n"
     ]
    }
   ],
   "source": [
    "# List of numerical columns\n",
    "numerical_columns = ['Cars', 'Trucks', 'Motorcycles', 'Buses', 'Car_Weight(kg)', 'Truck_Weight(kg)', \n",
    "                     'Motorcycle_Weight(kg)', 'Bus_Weight(kg)', 'Avg_Speed(m/s)', 'Avg_Weight(kg)', \n",
    "                     'Incident_Count', 'Surface Roughness (m/km)', 'Road Age (years)', 'temperature(°C)_x', \n",
    "                     'rainfall(mm)_x', 'humidity(%)_x', 'wind_speed(m/s)_x', 'average_temperature(°C)_x', \n",
    "                     'weather_condition_x']  # Make sure the encoded columns are included\n",
    "\n",
    "# Ensure that all values in numerical columns are numeric\n",
    "preprocessed_data[numerical_columns] = preprocessed_data[numerical_columns].apply(pd.to_numeric, errors='coerce')\n",
    "\n",
    "# Verify that all columns are numeric now\n",
    "print(preprocessed_data[numerical_columns].dtypes)\n"
   ]
  },
  {
   "cell_type": "code",
   "execution_count": 28,
   "id": "9ab3614b-fc6b-46ee-8470-33f9b200cb71",
   "metadata": {},
   "outputs": [
    {
     "name": "stdout",
     "output_type": "stream",
     "text": [
      "       Cars    Trucks  Motorcycles     Buses  Car_Weight(kg)  \\\n",
      "0  0.022703  0.274247     0.084633  1.000000        0.696545   \n",
      "1  0.933474  0.712375     0.037862  0.204082        0.737106   \n",
      "2  0.075502  0.929766     0.846325  0.020408        0.335503   \n",
      "3  0.176346  0.140468     0.536748  0.346939        0.754131   \n",
      "4  0.365892  0.301003     0.407572  0.734694        0.784176   \n",
      "\n",
      "   Truck_Weight(kg)  Motorcycle_Weight(kg)  Bus_Weight(kg)  Avg_Speed(m/s)  \\\n",
      "0          0.898927               0.696742        0.078849        0.696055   \n",
      "1          0.259902               0.834586        0.680601        0.659560   \n",
      "2          0.349243               0.954887        0.088486        0.323390   \n",
      "3          0.457335               0.355890        0.533292        0.416838   \n",
      "4          0.443297               0.451128        0.646558        0.789053   \n",
      "\n",
      "   Avg_Weight(kg)  Incident_Count  Surface Roughness (m/km)  Road Age (years)  \\\n",
      "0        0.657623        0.222222                  0.321176          0.187500   \n",
      "1        0.037498        0.444444                  0.513810          0.437500   \n",
      "2        0.504144        0.555556                  0.356538          0.375000   \n",
      "3        0.488159        0.000000                  0.289107          0.958333   \n",
      "4        0.002830        0.666667                  0.327094          0.750000   \n",
      "\n",
      "   temperature(°C)_x  rainfall(mm)_x  humidity(%)_x  wind_speed(m/s)_x  \\\n",
      "0           0.072099        0.595938       0.396271           0.571524   \n",
      "1           0.228577        0.613202       0.085496           0.490285   \n",
      "2           0.308330        0.315070       0.024785           0.109360   \n",
      "3           0.990681        0.770326       0.502039           0.971944   \n",
      "4           0.519102        0.253468       0.368617           0.239712   \n",
      "\n",
      "   average_temperature(°C)_x  weather_condition_x   Wear_Index  \n",
      "0                   0.934596             1.000000   125.564088  \n",
      "1                   0.124765             0.333333  1022.250557  \n",
      "2                   0.446978             0.000000   298.245914  \n",
      "3                   0.346884             0.000000   294.542841  \n",
      "4                   0.329695             1.000000   472.624664  \n"
     ]
    }
   ],
   "source": [
    "from sklearn.preprocessing import MinMaxScaler\n",
    "\n",
    "# Initialize MinMaxScaler\n",
    "scaler = MinMaxScaler(feature_range=(0, 1))\n",
    "\n",
    "# Normalize the numerical columns\n",
    "preprocessed_data[numerical_columns] = scaler.fit_transform(preprocessed_data[numerical_columns])\n",
    "\n",
    "# Verify the normalized data\n",
    "print(preprocessed_data.head())\n"
   ]
  },
  {
   "cell_type": "code",
   "execution_count": 29,
   "id": "6a0ec7cd-26bc-4f17-9a77-81fdb0d20900",
   "metadata": {},
   "outputs": [
    {
     "name": "stdout",
     "output_type": "stream",
     "text": [
      "Mean Absolute Error (GBM): 8.171820915849024\n"
     ]
    }
   ],
   "source": [
    "from sklearn.ensemble import GradientBoostingRegressor\n",
    "\n",
    "# Prepare features (X) and target (y)\n",
    "X = preprocessed_data.drop('Wear_Index', axis=1)  # Features\n",
    "y = preprocessed_data['Wear_Index']  # Target variable\n",
    "\n",
    "# Split the data into training and testing sets\n",
    "from sklearn.model_selection import train_test_split\n",
    "X_train, X_test, y_train, y_test = train_test_split(X, y, test_size=0.2, random_state=42)\n",
    "\n",
    "# Train the Gradient Boosting Model (GBM)\n",
    "gbm_model = GradientBoostingRegressor(n_estimators=100, learning_rate=0.1, max_depth=3)\n",
    "gbm_model.fit(X_train, y_train)\n",
    "\n",
    "# Predict using the GBM model\n",
    "gbm_predictions = gbm_model.predict(X_test)\n",
    "\n",
    "# Evaluate the GBM model's MAE\n",
    "from sklearn.metrics import mean_absolute_error\n",
    "mae_gbm = mean_absolute_error(y_test, gbm_predictions)\n",
    "print(f\"Mean Absolute Error (GBM): {mae_gbm}\")\n"
   ]
  },
  {
   "cell_type": "code",
   "execution_count": 32,
   "id": "cc0fd50f-dba4-4366-9252-0a7d9ea433d4",
   "metadata": {},
   "outputs": [
    {
     "name": "stdout",
     "output_type": "stream",
     "text": [
      "Shape of X_test_lstm: (200, 1, 19)\n"
     ]
    }
   ],
   "source": [
    "# Reshape X_test for LSTM model (LSTM expects 3D input: [samples, timesteps, features])\n",
    "X_test_lstm = X_test.values.astype(np.float32).reshape(X_test.shape[0], 1, X_test.shape[1])\n",
    "\n",
    "# Check the shape of X_test_lstm\n",
    "print(f\"Shape of X_test_lstm: {X_test_lstm.shape}\")\n"
   ]
  },
  {
   "cell_type": "code",
   "execution_count": 33,
   "id": "29950bb5-b499-49ec-9388-b43944c60074",
   "metadata": {},
   "outputs": [
    {
     "name": "stdout",
     "output_type": "stream",
     "text": [
      "7/7 [==============================] - 0s 1ms/step\n",
      "Shape of LSTM predictions: (200,)\n",
      "Shape of GBM predictions: (200,)\n"
     ]
    }
   ],
   "source": [
    "# Make sure both models are predicting on the same test data\n",
    "lstm_predictions = lstm_model.predict(X_test_lstm)  # LSTM model (reshaped input)\n",
    "gbm_predictions = gbm_model.predict(X_test)  # GBM model (original input)\n",
    "\n",
    "# Ensure that the predictions are one-dimensional\n",
    "lstm_predictions = lstm_predictions.flatten()  # Flatten LSTM predictions\n",
    "gbm_predictions = gbm_predictions.flatten()  # Flatten GBM predictions\n",
    "\n",
    "# Verify shapes match\n",
    "print(f\"Shape of LSTM predictions: {lstm_predictions.shape}\")\n",
    "print(f\"Shape of GBM predictions: {gbm_predictions.shape}\")\n"
   ]
  },
  {
   "cell_type": "code",
   "execution_count": 34,
   "id": "24a8510c-f9bd-440f-8394-ad419f392ac7",
   "metadata": {},
   "outputs": [
    {
     "name": "stdout",
     "output_type": "stream",
     "text": [
      "Mean Absolute Error (Hybrid Model): 264.47822558301556\n"
     ]
    }
   ],
   "source": [
    "# Combine predictions (simple average)\n",
    "combined_predictions = (lstm_predictions + gbm_predictions) / 2\n",
    "\n",
    "# Evaluate the combined model's Mean Absolute Error (MAE)\n",
    "mae_combined = mean_absolute_error(y_test, combined_predictions)\n",
    "print(f\"Mean Absolute Error (Hybrid Model): {mae_combined}\")\n"
   ]
  },
  {
   "cell_type": "code",
   "execution_count": 35,
   "id": "21e217b3-8690-45cf-a244-0c50c655629a",
   "metadata": {},
   "outputs": [],
   "source": [
    "# Weighted average (LSTM has more weight in this example)\n",
    "combined_predictions = (0.6 * lstm_predictions + 0.4 * gbm_predictions)\n"
   ]
  },
  {
   "cell_type": "code",
   "execution_count": 36,
   "id": "17e4498b-5735-49b6-8be2-e3c784f05cfb",
   "metadata": {},
   "outputs": [
    {
     "data": {
      "text/plain": [
       "['road_wear_gbm_model.pkl']"
      ]
     },
     "execution_count": 36,
     "metadata": {},
     "output_type": "execute_result"
    }
   ],
   "source": [
    "# Save the LSTM model\n",
    "lstm_model.save('road_wear_lstm_model.h5')\n",
    "\n",
    "# Save the GBM model\n",
    "import joblib\n",
    "joblib.dump(gbm_model, 'road_wear_gbm_model.pkl')\n"
   ]
  },
  {
   "cell_type": "code",
   "execution_count": 40,
   "id": "1bb8d600-8930-4d8b-af3a-05e33d33f2be",
   "metadata": {},
   "outputs": [
    {
     "name": "stdout",
     "output_type": "stream",
     "text": [
      "LabelEncoder and Scaler saved successfully.\n"
     ]
    }
   ],
   "source": [
    "from sklearn.preprocessing import LabelEncoder, MinMaxScaler\n",
    "import joblib\n",
    "import pandas as pd\n",
    "\n",
    "# Assuming you have your training data (train_data) loaded as a DataFrame\n",
    "\n",
    "# Example training data\n",
    "train_data = pd.DataFrame({\n",
    "    'weather_condition_x': ['Clear skies', 'Rainy', 'Stormy', 'Clear skies'],\n",
    "    'Cars': [100, 200, 150, 120],\n",
    "    'Trucks': [50, 70, 60, 55],\n",
    "    # Add other features as needed\n",
    "})\n",
    "\n",
    "# Initialize the LabelEncoder and fit it to the 'weather_condition_x' column\n",
    "label_encoder = LabelEncoder()\n",
    "train_data['weather_condition_x'] = label_encoder.fit_transform(train_data['weather_condition_x'])\n",
    "\n",
    "# Initialize the MinMaxScaler and fit it to the features\n",
    "scaler = MinMaxScaler(feature_range=(0, 1))\n",
    "train_data_normalized = scaler.fit_transform(train_data[['Cars', 'Trucks']])  # Normalize specific columns\n",
    "\n",
    "# Save the LabelEncoder and Scaler\n",
    "joblib.dump(label_encoder, 'label_encoder.pkl')\n",
    "joblib.dump(scaler, 'scaler.pkl')\n",
    "\n",
    "# Print confirmation\n",
    "print(\"LabelEncoder and Scaler saved successfully.\")\n"
   ]
  },
  {
   "cell_type": "code",
   "execution_count": null,
   "id": "b9856f01-dd3a-4722-9b99-fb8ebd7f8048",
   "metadata": {},
   "outputs": [],
   "source": []
  }
 ],
 "metadata": {
  "kernelspec": {
   "display_name": "Python 3 (ipykernel)",
   "language": "python",
   "name": "python3"
  },
  "language_info": {
   "codemirror_mode": {
    "name": "ipython",
    "version": 3
   },
   "file_extension": ".py",
   "mimetype": "text/x-python",
   "name": "python",
   "nbconvert_exporter": "python",
   "pygments_lexer": "ipython3",
   "version": "3.8.10"
  }
 },
 "nbformat": 4,
 "nbformat_minor": 5
}
